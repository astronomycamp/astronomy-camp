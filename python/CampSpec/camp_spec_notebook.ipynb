{
 "cells": [
  {
   "cell_type": "markdown",
   "metadata": {},
   "source": [
    "### Resources:\n",
    "\n",
    "* http://www.twilightlandscapes.com/IRAFtutorial/IRAFintro_06.html"
   ]
  },
  {
   "cell_type": "code",
   "execution_count": null,
   "metadata": {
    "collapsed": true
   },
   "outputs": [],
   "source": [
    "import os\n",
    "\n",
    "# Delete some directories/files from previous runs.\n",
    "\n",
    "os.system(\"rm -rf login.cl pyraf database uparm\")\n",
    "os.system(\"mkiraf\")\n",
    "\n"
   ]
  },
  {
   "cell_type": "markdown",
   "metadata": {},
   "source": [
    "## Use astropy to do initial data reduction"
   ]
  },
  {
   "cell_type": "raw",
   "metadata": {},
   "source": [
    "import astropy.io.fits as fits\n",
    "%matplotlib inline\n",
    "\n",
    "# Dark subtract and flat field the spectra\n",
    "\n",
    "flat =  fits.getdata(\"\")\n",
    "#Generate a flat field \n",
    "flat_bias=mean(flat ) #replace with dark as necessary\n",
    "flat = flat - flat_bias\n",
    "flat = flat/mean(flat)\n"
   ]
  },
  {
   "cell_type": "markdown",
   "metadata": {},
   "source": [
    "## Use pyraf to analyze the spectrum"
   ]
  },
  {
   "cell_type": "code",
   "execution_count": null,
   "metadata": {
    "collapsed": true
   },
   "outputs": [],
   "source": [
    "# Now load IRAF\n",
    "import pyraf.iraf as iraf\n",
    "\n",
    "# Load the packages we might need.\n",
    "\n",
    "iraf.noao(_doprint=0)\n",
    "iraf.onedspec(_doprint=0)\n",
    "iraf.twodspec(_doprint=0)\n",
    "iraf.apextract(_doprint=0)\n",
    "iraf.unlearn(iraf.apall)"
   ]
  },
  {
   "cell_type": "code",
   "execution_count": null,
   "metadata": {
    "collapsed": true
   },
   "outputs": [],
   "source": [
    "# The name of the science file.\n",
    "\n",
    "filename = 'vega_9.3narrow.fit'\n",
    "extracted_filename = 'vega_9.3narrow.ms.fits'\n",
    "calibrated_filename = 'vega_9.3narrow.calib.fits'\n",
    "\n",
    "# Delete previous results.\n",
    "\n",
    "os.system(\"rm \"+extracted_filename+\" \"+calibrated_filename)\n",
    "\n",
    "# Make sure that the dispersion axis is in the header.\n",
    "\n",
    "iraf.hedit(images=[filename], fields=[\"DISPAXIS\"], value=[\"1\"], add=\"Yes\")"
   ]
  },
  {
   "cell_type": "markdown",
   "metadata": {},
   "source": [
    "Commands for graphics windows:\n",
    "1. `w` to enter zoom mode \n",
    "2. `e` in the bottom left and top right corner of the box you want zoom in to.\n",
    "3. `w a` reset the zoom\n",
    "4. `m` centroid and define center of the analysis aperture\n",
    "5. `b` advance to setting the background\n",
    "6. `s` select background\n",
    "7. `f` fit background\n",
    "8. `q` to advance to the next stage\n",
    "9. `:or` increase order of polynomial fit\n"
   ]
  },
  {
   "cell_type": "code",
   "execution_count": null,
   "metadata": {
    "collapsed": true
   },
   "outputs": [],
   "source": [
    "# Run the spectral extraction program.\n",
    "\n",
    "iraf.apextract.setParam(\"dispaxis\", \"1\")\n",
    "\n",
    "iraf.apall(input=filename, find=\"No\", recenter=\"No\", resize=\"No\")"
   ]
  },
  {
   "cell_type": "code",
   "execution_count": null,
   "metadata": {
    "collapsed": true,
    "scrolled": true
   },
   "outputs": [],
   "source": [
    "# Now identify the spectral lines in the arc lamps. Need to replace l1 l2 \n",
    "# with the range of rows that have the spectral lines.\n",
    "\n",
    "iraf.identify(filename, section=\"line 265 285\")\n",
    "\n",
    "# Tell the extracted spectrum what the wavelength solutions are.\n",
    "\n",
    "iraf.hedit(images=[extracted_filename], fields=[\"REFSPEC1\"], \\\n",
    "        value=[filename], add=\"Yes\")\n",
    "\n",
    "iraf.dispcor(input=extracted_filename, output=calibrated_filename)\n",
    "\n",
    "# Plot the extracted spectrum?\n",
    "\n",
    "iraf.splot(calibrated_filename)"
   ]
  },
  {
   "cell_type": "code",
   "execution_count": null,
   "metadata": {
    "collapsed": true
   },
   "outputs": [],
   "source": [
    "#when in doubt:\n",
    "iraf.flpr()\n",
    "iraf.flpr()\n",
    "iraf.flpr()\n"
   ]
  },
  {
   "cell_type": "code",
   "execution_count": null,
   "metadata": {
    "collapsed": true
   },
   "outputs": [],
   "source": []
  }
 ],
 "metadata": {
  "kernelspec": {
   "display_name": "Python 2",
   "language": "python",
   "name": "python2"
  },
  "language_info": {
   "codemirror_mode": {
    "name": "ipython",
    "version": 2
   },
   "file_extension": ".py",
   "mimetype": "text/x-python",
   "name": "python",
   "nbconvert_exporter": "python",
   "pygments_lexer": "ipython2",
   "version": "2.7.13"
  }
 },
 "nbformat": 4,
 "nbformat_minor": 2
}
