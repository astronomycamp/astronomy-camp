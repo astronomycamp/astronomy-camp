{
 "cells": [
  {
   "cell_type": "markdown",
   "metadata": {},
   "source": [
    "### Resources:\n",
    "\n",
    "* http://www.twilightlandscapes.com/IRAFtutorial/IRAFintro_06.html"
   ]
  },
  {
   "cell_type": "code",
   "execution_count": null,
   "metadata": {},
   "outputs": [],
   "source": [
    "import os\n",
    "\n",
    "# Delete some directories/files from previous runs.\n",
    "\n",
    "os.system(\"rm -rf login.cl database pyraf uparm\")\n",
    "os.system(\"mkiraf\")\n",
    "\n",
    "\n",
    "import astropy.io.fits as fits\n",
    "%pylab\n",
    "%matplotlib inline\n",
    "\n",
    "# Dark subtract and flat field the spectra\n",
    "from os.path import expanduser\n",
    "home = expanduser(\"~/\")\n",
    "data_dir=home+\"/data_home/ATC2017/23june_Spectra/\"\n"
   ]
  },
  {
   "cell_type": "code",
   "execution_count": null,
   "metadata": {
    "scrolled": true
   },
   "outputs": [],
   "source": [
    "ls ~/data_home/ATC2017/23june_Spectra/"
   ]
  },
  {
   "cell_type": "code",
   "execution_count": null,
   "metadata": {},
   "outputs": [],
   "source": [
    "import glob \n",
    "wideslit_flats=glob.glob(data_dir+\"/23june_wideslit-*domeflat.fit\")\n",
    "darks=glob.glob(data_dir+\"23june_wideslit_11grating-*dark1.fit\")\n",
    "darks[1],wideslit_flats[0]"
   ]
  },
  {
   "cell_type": "code",
   "execution_count": null,
   "metadata": {
    "collapsed": true
   },
   "outputs": [],
   "source": [
    "# The name of the science file.\n",
    "target=\"vega.flattened.fits\"\n",
    "filename = target+ '.fits'\n",
    "extracted_filename = target+'.ms.fits'\n",
    "calibrated_filename = target+'.calib.fits'"
   ]
  },
  {
   "cell_type": "code",
   "execution_count": null,
   "metadata": {
    "collapsed": true
   },
   "outputs": [],
   "source": [
    "dark =  fits.getdata(darks[0])\n",
    "#dark_exptime = dark[0].header[\"EXPTIME\"]\n",
    "flat =  fits.getdata(wideslit_flats[0])\n",
    "\n"
   ]
  },
  {
   "cell_type": "markdown",
   "metadata": {},
   "source": [
    "## Use astropy to do initial data reduction"
   ]
  },
  {
   "cell_type": "code",
   "execution_count": null,
   "metadata": {
    "collapsed": true
   },
   "outputs": [],
   "source": []
  },
  {
   "cell_type": "code",
   "execution_count": null,
   "metadata": {
    "collapsed": true
   },
   "outputs": [],
   "source": []
  },
  {
   "cell_type": "code",
   "execution_count": null,
   "metadata": {
    "collapsed": true
   },
   "outputs": [],
   "source": []
  },
  {
   "cell_type": "code",
   "execution_count": null,
   "metadata": {},
   "outputs": [],
   "source": []
  },
  {
   "cell_type": "code",
   "execution_count": null,
   "metadata": {
    "scrolled": true
   },
   "outputs": [],
   "source": [
    "plt.figure(figsize=[8,3])\n",
    "vega_fname = data_dir+\"/23june_wideslit_11grating-003Vega.fit\"\n",
    "vega= fits.open(vega_fname)\n",
    "plt.subplot(121)\n",
    "plt.imshow(vega[0].data)\n",
    "plt.colorbar()\n",
    "\n",
    "#arcturus[0].header[\"flatfile\"]= wideslit_flats[0]\n",
    "vega[0].header[\"darkfile\"]= darks[0]\n",
    "\n",
    "plt.subplot(122)\n",
    "vega[0].data = vega[0].data-np.float_(dark) \n",
    "#float_ is necessary to change the byte order, e.g.\n",
    "#https://github.com/mperrin/poppy/issues/213#issuecomment-289166554\n",
    "plt.imshow(np.log10(vega[0].data))#,vmax=6e5,vmin=0 ) \n",
    "plt.colorbar()\n",
    "\n",
    "vega.writeto(\"vega.flattened.fits\",clobber=True)"
   ]
  },
  {
   "cell_type": "code",
   "execution_count": null,
   "metadata": {
    "collapsed": true
   },
   "outputs": [],
   "source": []
  },
  {
   "cell_type": "markdown",
   "metadata": {},
   "source": [
    "## Use pyraf to analyze the spectrum"
   ]
  },
  {
   "cell_type": "code",
   "execution_count": null,
   "metadata": {},
   "outputs": [],
   "source": [
    "# Now load IRAF\n",
    "import pyraf.iraf as iraf\n",
    "\n",
    "# Load the packages we might need.\n",
    "\n",
    "iraf.noao(_doprint=0)\n",
    "iraf.onedspec(_doprint=0)\n",
    "iraf.twodspec(_doprint=0)\n",
    "iraf.apextract(_doprint=0)\n",
    "iraf.unlearn(iraf.apall)\n",
    "iraf.unlearn(iraf.autoidentify)\n"
   ]
  },
  {
   "cell_type": "code",
   "execution_count": null,
   "metadata": {},
   "outputs": [],
   "source": [
    "# Delete previous results.\n",
    "\n",
    "os.system(\"rm \"+extracted_filename+\" \"+calibrated_filename)\n",
    "\n",
    "# Make sure that the dispersion axis is in the header.\n",
    "\n",
    "iraf.hedit(images=[filename], fields=[\"DISPAXIS\"], value=[\"1\"], add=\"Yes\")"
   ]
  },
  {
   "cell_type": "code",
   "execution_count": null,
   "metadata": {
    "collapsed": true
   },
   "outputs": [],
   "source": []
  },
  {
   "cell_type": "markdown",
   "metadata": {},
   "source": [
    "Commands for graphics windows:\n",
    "1. `w` to enter zoom mode \n",
    "2. `e` in the bottom left and top right corner of the box you want zoom in to.\n",
    "3. `w a` reset the zoom\n",
    "4. `m` centroid and define center of the analysis aperture\n",
    "5. `b` advance to setting the background\n",
    "6. `s` select background\n",
    "7. `f` fit background\n",
    "8. `q` to advance to the next stage\n",
    "9. `:or` increase order of polynomial fit\n"
   ]
  },
  {
   "cell_type": "code",
   "execution_count": null,
   "metadata": {},
   "outputs": [],
   "source": [
    "# Run the spectral extraction program.\n",
    "\n",
    "iraf.apextract.setParam(\"dispaxis\", \"1\")\n",
    "\n",
    "iraf.apall(input=filename, find=\"No\", recenter=\"No\", resize=\"No\",interactive=\"No\")\n",
    "filename"
   ]
  },
  {
   "cell_type": "code",
   "execution_count": null,
   "metadata": {},
   "outputs": [],
   "source": [
    "\n"
   ]
  },
  {
   "cell_type": "code",
   "execution_count": null,
   "metadata": {
    "scrolled": true
   },
   "outputs": [],
   "source": [
    "\n",
    "iraf.identify(filename[:-5], \n",
    "              section=\"line 265 285\")"
   ]
  },
  {
   "cell_type": "code",
   "execution_count": null,
   "metadata": {
    "scrolled": true
   },
   "outputs": [],
   "source": [
    "iraf.autoidentify(filename[:-5], coordli=home+\"/Downloads/HgNe(1).dat\",\n",
    "              section=\"line 265 285\",\n",
    "                  interactive='yes',\n",
    "                  crval=5000,\n",
    "                  cdelt=1.2,\n",
    "                  fwidth=10)\n"
   ]
  },
  {
   "cell_type": "code",
   "execution_count": null,
   "metadata": {
    "collapsed": true
   },
   "outputs": [],
   "source": []
  },
  {
   "cell_type": "code",
   "execution_count": null,
   "metadata": {},
   "outputs": [],
   "source": [
    "# Tell the extracted spectrum what the wavelength solutions are.\n",
    "\n",
    "iraf.hedit(images=[extracted_filename], fields=[\"REFSPEC1\"], \\\n",
    "        value=[filename], add=\"Yes\")\n",
    "\n",
    "iraf.dispcor(input=extracted_filename, output=calibrated_filename)\n",
    "\n",
    "# Plot the extracted spectrum?"
   ]
  },
  {
   "cell_type": "code",
   "execution_count": null,
   "metadata": {
    "scrolled": false
   },
   "outputs": [],
   "source": [
    "iraf.splot(calibrated_filename)"
   ]
  },
  {
   "cell_type": "code",
   "execution_count": null,
   "metadata": {
    "collapsed": true
   },
   "outputs": [],
   "source": [
    "#when in doubt:\n",
    "iraf.flpr()\n",
    "iraf.flpr()\n",
    "iraf.flpr()\n"
   ]
  },
  {
   "cell_type": "code",
   "execution_count": null,
   "metadata": {},
   "outputs": [],
   "source": [
    "fits.getdata(\"vega.flattened.fits.ms.fits\")"
   ]
  },
  {
   "cell_type": "code",
   "execution_count": null,
   "metadata": {},
   "outputs": [],
   "source": [
    "plt.plot(fits.getdata(\"vega.flattened.fits.ms.fits\"))\n",
    "plt.ylim([0,7e5])\n"
   ]
  },
  {
   "cell_type": "code",
   "execution_count": null,
   "metadata": {
    "collapsed": true
   },
   "outputs": [],
   "source": [
    "plt.plot(fits.getdata(\"vega.flattened.fits.calib.fits\"))\n",
    "plt.ylim([0,7e5])"
   ]
  },
  {
   "cell_type": "code",
   "execution_count": null,
   "metadata": {
    "collapsed": true
   },
   "outputs": [],
   "source": [
    "A0V=fits.getdata(home+\"/Downloads/pickles_uk_9.fits\")\n",
    "plot(A0V[\"WAVELENGTH\"],A0V[\"FLUX\"])"
   ]
  },
  {
   "cell_type": "code",
   "execution_count": null,
   "metadata": {
    "collapsed": true
   },
   "outputs": [],
   "source": [
    "from scipy.interpolate import interp1d\n",
    "A0V_interpolator = interp1d(A0V[\"WAVELENGTH\"],A0V[\"FLUX\"])\n"
   ]
  },
  {
   "cell_type": "code",
   "execution_count": null,
   "metadata": {
    "collapsed": true
   },
   "outputs": [],
   "source": []
  }
 ],
 "metadata": {
  "kernelspec": {
   "display_name": "Python 2",
   "language": "python",
   "name": "python2"
  },
  "language_info": {
   "codemirror_mode": {
    "name": "ipython",
    "version": 2
   },
   "file_extension": ".py",
   "mimetype": "text/x-python",
   "name": "python",
   "nbconvert_exporter": "python",
   "pygments_lexer": "ipython2",
   "version": "2.7.13"
  }
 },
 "nbformat": 4,
 "nbformat_minor": 2
}
